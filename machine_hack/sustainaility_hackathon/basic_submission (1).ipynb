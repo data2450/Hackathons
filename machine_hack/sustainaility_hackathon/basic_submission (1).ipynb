{
  "cells": [
    {
      "cell_type": "code",
      "execution_count": null,
      "id": "1d455542",
      "metadata": {
        "id": "1d455542"
      },
      "outputs": [],
      "source": [
        "import pandas as pd\n",
        "import numpy as np\n",
        "import matplotlib.pyplot as plt\n",
        "import plotly.express as px\n",
        "import pandas as pd\n",
        "import numpy as np\n",
        "from xgboost import XGBRFRegressor\n",
        "from sklearn.metrics import mean_squared_log_error, mean_squared_error\n",
        "from sklearn.model_selection import train_test_split"
      ]
    },
    {
      "cell_type": "code",
      "execution_count": null,
      "id": "1ce0e0f6",
      "metadata": {
        "id": "1ce0e0f6"
      },
      "outputs": [],
      "source": [
        "# Load the data\n",
        "india_train = pd.read_csv(\"India_train.csv\")\n",
        "india_test = pd.read_csv(\"India_test.csv\")\n",
        "usa_train = pd.read_csv(\"USA_train.csv\")\n",
        "usa_test = pd.read_csv(\"USA_test.csv\")\n",
        "soil_rainfall = pd.read_csv(\"India_soil_rainfall_30years.csv\")\n",
        "commodity = pd.read_csv(\"USA_Commodity_prices.csv\")\n",
        "submission = pd.read_csv(\"submission.csv\")"
      ]
    },
    {
      "cell_type": "code",
      "execution_count": null,
      "id": "ecbed979",
      "metadata": {
        "id": "ecbed979"
      },
      "outputs": [],
      "source": [
        "india_train"
      ]
    },
    {
      "cell_type": "code",
      "execution_count": null,
      "id": "8cbc32e6",
      "metadata": {
        "id": "8cbc32e6"
      },
      "outputs": [],
      "source": [
        "india_train.shape"
      ]
    },
    {
      "cell_type": "code",
      "execution_count": null,
      "id": "d76a8ca2",
      "metadata": {
        "id": "d76a8ca2"
      },
      "outputs": [],
      "source": [
        "india_test.shape"
      ]
    },
    {
      "cell_type": "code",
      "execution_count": null,
      "id": "53596d1a",
      "metadata": {
        "id": "53596d1a"
      },
      "outputs": [],
      "source": [
        "india_train.info()"
      ]
    },
    {
      "cell_type": "code",
      "execution_count": null,
      "id": "15339706",
      "metadata": {
        "id": "15339706"
      },
      "outputs": [],
      "source": [
        "india_test.info()"
      ]
    },
    {
      "cell_type": "code",
      "execution_count": null,
      "id": "1cee7c2d",
      "metadata": {
        "id": "1cee7c2d"
      },
      "outputs": [],
      "source": [
        "india_train.describe()"
      ]
    },
    {
      "cell_type": "code",
      "execution_count": null,
      "id": "cda3a256",
      "metadata": {
        "id": "cda3a256"
      },
      "outputs": [],
      "source": [
        "india_test.describe()"
      ]
    },
    {
      "cell_type": "code",
      "execution_count": null,
      "id": "3edf8cdf",
      "metadata": {
        "id": "3edf8cdf"
      },
      "outputs": [],
      "source": [
        "india_train.isnull().sum()"
      ]
    },
    {
      "cell_type": "code",
      "execution_count": null,
      "id": "80604ec1",
      "metadata": {
        "id": "80604ec1"
      },
      "outputs": [],
      "source": [
        "india_train=india_train.fillna(\"0\")"
      ]
    },
    {
      "cell_type": "code",
      "execution_count": null,
      "id": "c522ce26",
      "metadata": {
        "id": "c522ce26"
      },
      "outputs": [],
      "source": [
        "india_train= india_train.astype(float, errors='ignore')"
      ]
    },
    {
      "cell_type": "code",
      "execution_count": null,
      "id": "e834c92c",
      "metadata": {
        "id": "e834c92c"
      },
      "outputs": [],
      "source": [
        "india_train.dtypes"
      ]
    },
    {
      "cell_type": "code",
      "execution_count": null,
      "id": "8fa8976d",
      "metadata": {
        "id": "8fa8976d"
      },
      "outputs": [],
      "source": [
        "india_train = india_train.drop(['State Name','Dist Name'], axis=1)"
      ]
    },
    {
      "cell_type": "code",
      "execution_count": null,
      "id": "469a06e4",
      "metadata": {
        "id": "469a06e4"
      },
      "outputs": [],
      "source": [
        "fig = px.scatter(india_train, x=\"COTTON PRODUCTION (1000 tons)\", y=\"COTTON YIELD (Kg per ha)\")\n",
        "fig.show()"
      ]
    },
    {
      "cell_type": "code",
      "execution_count": null,
      "id": "21de5ff0",
      "metadata": {
        "id": "21de5ff0"
      },
      "outputs": [],
      "source": [
        "fig = px.scatter(india_train, x=\"COTTON AREA (1000 ha)\", y=\"COTTON PRODUCTION (1000 tons)\")\n",
        "fig.show()"
      ]
    },
    {
      "cell_type": "code",
      "execution_count": null,
      "id": "3c8ba91e",
      "metadata": {
        "id": "3c8ba91e"
      },
      "outputs": [],
      "source": [
        "# Load the training data\n",
        "# Separate the features and the target variable for prediction\n",
        "columns = india_train.columns"
      ]
    },
    {
      "cell_type": "code",
      "execution_count": null,
      "id": "902fe0e0",
      "metadata": {
        "id": "902fe0e0"
      },
      "outputs": [],
      "source": [
        "columns"
      ]
    },
    {
      "cell_type": "code",
      "execution_count": null,
      "id": "b196afaf",
      "metadata": {
        "id": "b196afaf"
      },
      "outputs": [],
      "source": [
        "columns = [col for col in columns if col not in ['COTTON YIELD (Kg per ha)']]"
      ]
    },
    {
      "cell_type": "code",
      "execution_count": null,
      "id": "fb4218fd",
      "metadata": {
        "id": "fb4218fd"
      },
      "outputs": [],
      "source": [
        "#for demo perpose we are using number values"
      ]
    },
    {
      "cell_type": "code",
      "execution_count": null,
      "id": "3b3ca7ae",
      "metadata": {
        "id": "3b3ca7ae"
      },
      "outputs": [],
      "source": [
        "features = columns\n",
        "target = 'COTTON YIELD (Kg per ha)'\n",
        "\n",
        "X = india_train[features]\n",
        "y = india_train[target]"
      ]
    },
    {
      "cell_type": "code",
      "execution_count": null,
      "id": "6f389e1d",
      "metadata": {
        "id": "6f389e1d"
      },
      "outputs": [],
      "source": [
        "X"
      ]
    },
    {
      "cell_type": "code",
      "execution_count": null,
      "id": "0d402780",
      "metadata": {
        "id": "0d402780"
      },
      "outputs": [],
      "source": [
        "# Split the data into training set and validation set\n",
        "X_train, X_val, y_train, y_val = train_test_split(X, y, test_size=0.1, random_state=42)\n",
        "\n",
        "# Define the model\n",
        "model_fare = XGBRFRegressor()\n",
        "\n",
        "# Train the model\n",
        "model_fare.fit(X_train, y_train)\n",
        "\n",
        "# Predict the validation set results\n",
        "y_pred_val = model_fare.predict(X_val)"
      ]
    },
    {
      "cell_type": "code",
      "execution_count": null,
      "id": "217ac584",
      "metadata": {
        "id": "217ac584"
      },
      "outputs": [],
      "source": [
        "# Calculate the MSE\n",
        "mse = np.sqrt(mean_squared_error(y_val, y_pred_val))\n",
        "print(f\"Validation MSE: {mse}\")"
      ]
    },
    {
      "cell_type": "code",
      "execution_count": null,
      "id": "21d1df77",
      "metadata": {
        "id": "21d1df77"
      },
      "outputs": [],
      "source": [
        "# Predict the yield in the test set\n",
        "india_test['COTTON YIELD (Kg per ha)'] = model_fare.predict(india_test[features])"
      ]
    },
    {
      "cell_type": "code",
      "execution_count": null,
      "id": "c111d3b2",
      "metadata": {
        "id": "c111d3b2"
      },
      "outputs": [],
      "source": [
        "submission_india=india_test['COTTON YIELD (Kg per ha)']"
      ]
    },
    {
      "cell_type": "code",
      "execution_count": null,
      "id": "c98d0590",
      "metadata": {
        "id": "c98d0590"
      },
      "outputs": [],
      "source": [
        "submission_india"
      ]
    },
    {
      "cell_type": "markdown",
      "id": "8eae50e7",
      "metadata": {
        "id": "8eae50e7"
      },
      "source": [
        "# Let train USA data"
      ]
    },
    {
      "cell_type": "code",
      "execution_count": null,
      "id": "72ddc96d",
      "metadata": {
        "id": "72ddc96d"
      },
      "outputs": [],
      "source": [
        "columns = usa_train.columns"
      ]
    },
    {
      "cell_type": "code",
      "execution_count": null,
      "id": "f0124cf8",
      "metadata": {
        "id": "f0124cf8"
      },
      "outputs": [],
      "source": [
        "columns"
      ]
    },
    {
      "cell_type": "code",
      "execution_count": null,
      "id": "2b70c479",
      "metadata": {
        "id": "2b70c479"
      },
      "outputs": [],
      "source": [
        "usa_train=usa_train.fillna(\"0\")"
      ]
    },
    {
      "cell_type": "code",
      "execution_count": null,
      "id": "3971ec70",
      "metadata": {
        "id": "3971ec70"
      },
      "outputs": [],
      "source": [
        "usa_train= usa_train.astype(float, errors='ignore')"
      ]
    },
    {
      "cell_type": "code",
      "execution_count": null,
      "id": "a8684989",
      "metadata": {
        "scrolled": true,
        "id": "a8684989"
      },
      "outputs": [],
      "source": [
        "usa_train.dtypes"
      ]
    },
    {
      "cell_type": "code",
      "execution_count": null,
      "id": "4b87c807",
      "metadata": {
        "id": "4b87c807"
      },
      "outputs": [],
      "source": [
        "usa_train=usa_train.drop(['State','Planted (1000 Acres)',\"Harvested (1000 Acres)\"], axis=1)"
      ]
    },
    {
      "cell_type": "code",
      "execution_count": null,
      "id": "7d572fc8",
      "metadata": {
        "id": "7d572fc8"
      },
      "outputs": [],
      "source": [
        "usa_train"
      ]
    },
    {
      "cell_type": "code",
      "execution_count": null,
      "id": "b84d4be5",
      "metadata": {
        "id": "b84d4be5"
      },
      "outputs": [],
      "source": [
        "columns=usa_train.columns"
      ]
    },
    {
      "cell_type": "code",
      "execution_count": null,
      "id": "84289a89",
      "metadata": {
        "id": "84289a89"
      },
      "outputs": [],
      "source": [
        "columns"
      ]
    },
    {
      "cell_type": "code",
      "execution_count": null,
      "id": "00dca963",
      "metadata": {
        "id": "00dca963"
      },
      "outputs": [],
      "source": [
        "columns = [col for col in columns if col not in ['Yield (Pounds/ Harvested Area)']]"
      ]
    },
    {
      "cell_type": "code",
      "execution_count": null,
      "id": "d0b442d5",
      "metadata": {
        "id": "d0b442d5"
      },
      "outputs": [],
      "source": [
        "features = columns\n",
        "target = 'Yield (Pounds/ Harvested Area)'\n",
        "\n",
        "X = usa_train[features]\n",
        "y = usa_train[target]"
      ]
    },
    {
      "cell_type": "code",
      "execution_count": null,
      "id": "e793c594",
      "metadata": {
        "id": "e793c594"
      },
      "outputs": [],
      "source": [
        "# Split the data into training set and validation set\n",
        "X_train, X_val, y_train, y_val = train_test_split(X, y, test_size=0.1, random_state=42)\n",
        "\n",
        "# Define the model\n",
        "model_fare = XGBRFRegressor()\n",
        "\n",
        "# Train the model\n",
        "model_fare.fit(X_train, y_train)\n",
        "\n",
        "# Predict the validation set results\n",
        "y_pred_val = model_fare.predict(X_val)"
      ]
    },
    {
      "cell_type": "code",
      "execution_count": null,
      "id": "a771701a",
      "metadata": {
        "id": "a771701a"
      },
      "outputs": [],
      "source": [
        "# Calculate the MSE\n",
        "mse = np.sqrt(mean_squared_error(y_val, y_pred_val))\n",
        "print(f\"Validation MSE: {mse}\")"
      ]
    },
    {
      "cell_type": "code",
      "execution_count": null,
      "id": "f7490d71",
      "metadata": {
        "id": "f7490d71"
      },
      "outputs": [],
      "source": [
        "usa_test"
      ]
    },
    {
      "cell_type": "code",
      "execution_count": null,
      "id": "ccb061ec",
      "metadata": {
        "id": "ccb061ec"
      },
      "outputs": [],
      "source": [
        "# Predict the yield in the test set\n",
        "usa_test['Yield (Pounds/ Harvested Area)'] = model_fare.predict(usa_test[features])"
      ]
    },
    {
      "cell_type": "code",
      "execution_count": null,
      "id": "642d7cdb",
      "metadata": {
        "id": "642d7cdb"
      },
      "outputs": [],
      "source": [
        "usa_test"
      ]
    },
    {
      "cell_type": "code",
      "execution_count": null,
      "id": "7465646b",
      "metadata": {
        "id": "7465646b"
      },
      "outputs": [],
      "source": [
        "submission_usa=usa_test['Yield (Pounds/ Harvested Area)']"
      ]
    },
    {
      "cell_type": "code",
      "execution_count": null,
      "id": "8c1f8d3a",
      "metadata": {
        "id": "8c1f8d3a"
      },
      "outputs": [],
      "source": [
        "submission_usa"
      ]
    },
    {
      "cell_type": "code",
      "execution_count": null,
      "id": "bef10ec4",
      "metadata": {
        "id": "bef10ec4"
      },
      "outputs": [],
      "source": [
        "commodity"
      ]
    },
    {
      "cell_type": "markdown",
      "id": "1cd2acf6",
      "metadata": {
        "id": "1cd2acf6"
      },
      "source": [
        "### We need to find relation and fill the data from year 2003 to 2022 with the USA data"
      ]
    },
    {
      "cell_type": "code",
      "execution_count": null,
      "id": "d23f4f52",
      "metadata": {
        "id": "d23f4f52"
      },
      "outputs": [],
      "source": [
        "# Convert the 'Year' column to numeric type if it's not already\n",
        "commodity['Year'] = pd.to_numeric(commodity['Year'])\n",
        "\n",
        "# Select the rows between the years 2003 and 2022\n",
        "submission_commodity = commodity[(commodity['Year'] >= 2003) & (commodity['Year'] <= 2022)]\n"
      ]
    },
    {
      "cell_type": "code",
      "execution_count": null,
      "id": "0798f0f5",
      "metadata": {
        "id": "0798f0f5"
      },
      "outputs": [],
      "source": [
        "submission_commodity=submission_commodity[\"Cotton_Price[Dollar/ton]\"]"
      ]
    },
    {
      "cell_type": "markdown",
      "id": "71e9f46e",
      "metadata": {
        "id": "71e9f46e"
      },
      "source": [
        "### To create the final submission file"
      ]
    },
    {
      "cell_type": "code",
      "execution_count": null,
      "id": "05b8c518",
      "metadata": {
        "id": "05b8c518"
      },
      "outputs": [],
      "source": [
        "submission = pd.concat([submission_india,submission_usa,submission_commodity],axis=1)"
      ]
    },
    {
      "cell_type": "code",
      "execution_count": null,
      "id": "fe90bad0",
      "metadata": {
        "id": "fe90bad0"
      },
      "outputs": [],
      "source": [
        "submission"
      ]
    },
    {
      "cell_type": "code",
      "execution_count": null,
      "id": "f70c2d35",
      "metadata": {
        "id": "f70c2d35"
      },
      "outputs": [],
      "source": [
        "submission = submission.fillna(0)"
      ]
    },
    {
      "cell_type": "code",
      "execution_count": null,
      "id": "8afe160c",
      "metadata": {
        "id": "8afe160c"
      },
      "outputs": [],
      "source": [
        "submission"
      ]
    },
    {
      "cell_type": "code",
      "execution_count": null,
      "id": "99c83d9c",
      "metadata": {
        "id": "99c83d9c"
      },
      "outputs": [],
      "source": [
        "submission.to_csv(\"submission.csv\",index=False)"
      ]
    },
    {
      "cell_type": "code",
      "execution_count": null,
      "id": "9d157e48",
      "metadata": {
        "id": "9d157e48"
      },
      "outputs": [],
      "source": []
    },
    {
      "cell_type": "code",
      "execution_count": null,
      "id": "2ce2dc4a",
      "metadata": {
        "id": "2ce2dc4a"
      },
      "outputs": [],
      "source": []
    },
    {
      "cell_type": "code",
      "execution_count": null,
      "id": "b5f2ec39",
      "metadata": {
        "id": "b5f2ec39"
      },
      "outputs": [],
      "source": []
    },
    {
      "cell_type": "code",
      "execution_count": null,
      "id": "6d07ca03",
      "metadata": {
        "id": "6d07ca03"
      },
      "outputs": [],
      "source": []
    },
    {
      "cell_type": "code",
      "execution_count": null,
      "id": "43af126b",
      "metadata": {
        "id": "43af126b"
      },
      "outputs": [],
      "source": []
    },
    {
      "cell_type": "code",
      "execution_count": null,
      "id": "df4b19ef",
      "metadata": {
        "id": "df4b19ef"
      },
      "outputs": [],
      "source": []
    }
  ],
  "metadata": {
    "kernelspec": {
      "display_name": "Python 3 (ipykernel)",
      "language": "python",
      "name": "python3"
    },
    "language_info": {
      "codemirror_mode": {
        "name": "ipython",
        "version": 3
      },
      "file_extension": ".py",
      "mimetype": "text/x-python",
      "name": "python",
      "nbconvert_exporter": "python",
      "pygments_lexer": "ipython3",
      "version": "3.10.11"
    },
    "colab": {
      "provenance": []
    }
  },
  "nbformat": 4,
  "nbformat_minor": 5
}