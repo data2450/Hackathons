{
  "cells": [
    {
      "cell_type": "code",
      "execution_count": null,
      "id": "adf778f7",
      "metadata": {
        "ExecuteTime": {
          "end_time": "2022-11-13T18:11:08.400306Z",
          "start_time": "2022-11-13T18:11:08.380981Z"
        },
        "id": "adf778f7"
      },
      "outputs": [],
      "source": [
        "import pandas as pd"
      ]
    },
    {
      "cell_type": "code",
      "execution_count": null,
      "id": "77ce3226",
      "metadata": {
        "ExecuteTime": {
          "end_time": "2022-11-13T18:11:08.795556Z",
          "start_time": "2022-11-13T18:11:08.789545Z"
        },
        "id": "77ce3226"
      },
      "outputs": [],
      "source": [
        "pd.set_option('display.max_rows', 100)\n",
        "pd.set_option('display.max_columns', 100)"
      ]
    },
    {
      "cell_type": "code",
      "execution_count": null,
      "id": "4acb2bcc",
      "metadata": {
        "ExecuteTime": {
          "end_time": "2022-11-13T18:11:11.104975Z",
          "start_time": "2022-11-13T18:11:10.561370Z"
        },
        "id": "4acb2bcc",
        "outputId": "ceeaca1a-ef7c-418b-f454-70e22f681a89"
      },
      "outputs": [
        {
          "data": {
            "text/html": [
              "<div>\n",
              "<style scoped>\n",
              "    .dataframe tbody tr th:only-of-type {\n",
              "        vertical-align: middle;\n",
              "    }\n",
              "\n",
              "    .dataframe tbody tr th {\n",
              "        vertical-align: top;\n",
              "    }\n",
              "\n",
              "    .dataframe thead th {\n",
              "        text-align: right;\n",
              "    }\n",
              "</style>\n",
              "<table border=\"1\" class=\"dataframe\">\n",
              "  <thead>\n",
              "    <tr style=\"text-align: right;\">\n",
              "      <th></th>\n",
              "      <th>policy_id</th>\n",
              "      <th>policy_tenure</th>\n",
              "      <th>age_of_car</th>\n",
              "      <th>age_of_policyholder</th>\n",
              "      <th>area_cluster</th>\n",
              "      <th>population_density</th>\n",
              "      <th>make</th>\n",
              "      <th>segment</th>\n",
              "      <th>model</th>\n",
              "      <th>fuel_type</th>\n",
              "      <th>max_torque</th>\n",
              "      <th>max_power</th>\n",
              "      <th>engine_type</th>\n",
              "      <th>airbags</th>\n",
              "      <th>is_esc</th>\n",
              "      <th>is_adjustable_steering</th>\n",
              "      <th>is_tpms</th>\n",
              "      <th>is_parking_sensors</th>\n",
              "      <th>is_parking_camera</th>\n",
              "      <th>rear_brakes_type</th>\n",
              "      <th>displacement</th>\n",
              "      <th>cylinder</th>\n",
              "      <th>transmission_type</th>\n",
              "      <th>gear_box</th>\n",
              "      <th>steering_type</th>\n",
              "      <th>turning_radius</th>\n",
              "      <th>length</th>\n",
              "      <th>width</th>\n",
              "      <th>height</th>\n",
              "      <th>gross_weight</th>\n",
              "      <th>is_front_fog_lights</th>\n",
              "      <th>is_rear_window_wiper</th>\n",
              "      <th>is_rear_window_washer</th>\n",
              "      <th>is_rear_window_defogger</th>\n",
              "      <th>is_brake_assist</th>\n",
              "      <th>is_power_door_locks</th>\n",
              "      <th>is_central_locking</th>\n",
              "      <th>is_power_steering</th>\n",
              "      <th>is_driver_seat_height_adjustable</th>\n",
              "      <th>is_day_night_rear_view_mirror</th>\n",
              "      <th>is_ecw</th>\n",
              "      <th>is_speed_alert</th>\n",
              "      <th>ncap_rating</th>\n",
              "      <th>is_claim</th>\n",
              "    </tr>\n",
              "  </thead>\n",
              "  <tbody>\n",
              "    <tr>\n",
              "      <th>0</th>\n",
              "      <td>ID00001</td>\n",
              "      <td>0.515874</td>\n",
              "      <td>0.05</td>\n",
              "      <td>0.644231</td>\n",
              "      <td>C1</td>\n",
              "      <td>4990</td>\n",
              "      <td>1</td>\n",
              "      <td>A</td>\n",
              "      <td>M1</td>\n",
              "      <td>CNG</td>\n",
              "      <td>60Nm@3500rpm</td>\n",
              "      <td>40.36bhp@6000rpm</td>\n",
              "      <td>F8D Petrol Engine</td>\n",
              "      <td>2</td>\n",
              "      <td>No</td>\n",
              "      <td>No</td>\n",
              "      <td>No</td>\n",
              "      <td>Yes</td>\n",
              "      <td>No</td>\n",
              "      <td>Drum</td>\n",
              "      <td>796</td>\n",
              "      <td>3</td>\n",
              "      <td>Manual</td>\n",
              "      <td>5</td>\n",
              "      <td>Power</td>\n",
              "      <td>4.6</td>\n",
              "      <td>3445</td>\n",
              "      <td>1515</td>\n",
              "      <td>1475</td>\n",
              "      <td>1185</td>\n",
              "      <td>No</td>\n",
              "      <td>No</td>\n",
              "      <td>No</td>\n",
              "      <td>No</td>\n",
              "      <td>No</td>\n",
              "      <td>No</td>\n",
              "      <td>No</td>\n",
              "      <td>Yes</td>\n",
              "      <td>No</td>\n",
              "      <td>No</td>\n",
              "      <td>No</td>\n",
              "      <td>Yes</td>\n",
              "      <td>0</td>\n",
              "      <td>0</td>\n",
              "    </tr>\n",
              "    <tr>\n",
              "      <th>1</th>\n",
              "      <td>ID00002</td>\n",
              "      <td>0.672619</td>\n",
              "      <td>0.02</td>\n",
              "      <td>0.375000</td>\n",
              "      <td>C2</td>\n",
              "      <td>27003</td>\n",
              "      <td>1</td>\n",
              "      <td>A</td>\n",
              "      <td>M1</td>\n",
              "      <td>CNG</td>\n",
              "      <td>60Nm@3500rpm</td>\n",
              "      <td>40.36bhp@6000rpm</td>\n",
              "      <td>F8D Petrol Engine</td>\n",
              "      <td>2</td>\n",
              "      <td>No</td>\n",
              "      <td>No</td>\n",
              "      <td>No</td>\n",
              "      <td>Yes</td>\n",
              "      <td>No</td>\n",
              "      <td>Drum</td>\n",
              "      <td>796</td>\n",
              "      <td>3</td>\n",
              "      <td>Manual</td>\n",
              "      <td>5</td>\n",
              "      <td>Power</td>\n",
              "      <td>4.6</td>\n",
              "      <td>3445</td>\n",
              "      <td>1515</td>\n",
              "      <td>1475</td>\n",
              "      <td>1185</td>\n",
              "      <td>No</td>\n",
              "      <td>No</td>\n",
              "      <td>No</td>\n",
              "      <td>No</td>\n",
              "      <td>No</td>\n",
              "      <td>No</td>\n",
              "      <td>No</td>\n",
              "      <td>Yes</td>\n",
              "      <td>No</td>\n",
              "      <td>No</td>\n",
              "      <td>No</td>\n",
              "      <td>Yes</td>\n",
              "      <td>0</td>\n",
              "      <td>0</td>\n",
              "    </tr>\n",
              "  </tbody>\n",
              "</table>\n",
              "</div>"
            ],
            "text/plain": [
              "  policy_id  policy_tenure  age_of_car  age_of_policyholder area_cluster  \\\n",
              "0   ID00001       0.515874        0.05             0.644231           C1   \n",
              "1   ID00002       0.672619        0.02             0.375000           C2   \n",
              "\n",
              "   population_density  make segment model fuel_type    max_torque  \\\n",
              "0                4990     1       A    M1       CNG  60Nm@3500rpm   \n",
              "1               27003     1       A    M1       CNG  60Nm@3500rpm   \n",
              "\n",
              "          max_power        engine_type  airbags is_esc is_adjustable_steering  \\\n",
              "0  40.36bhp@6000rpm  F8D Petrol Engine        2     No                     No   \n",
              "1  40.36bhp@6000rpm  F8D Petrol Engine        2     No                     No   \n",
              "\n",
              "  is_tpms is_parking_sensors is_parking_camera rear_brakes_type  displacement  \\\n",
              "0      No                Yes                No             Drum           796   \n",
              "1      No                Yes                No             Drum           796   \n",
              "\n",
              "   cylinder transmission_type  gear_box steering_type  turning_radius  length  \\\n",
              "0         3            Manual         5         Power             4.6    3445   \n",
              "1         3            Manual         5         Power             4.6    3445   \n",
              "\n",
              "   width  height  gross_weight is_front_fog_lights is_rear_window_wiper  \\\n",
              "0   1515    1475          1185                  No                   No   \n",
              "1   1515    1475          1185                  No                   No   \n",
              "\n",
              "  is_rear_window_washer is_rear_window_defogger is_brake_assist  \\\n",
              "0                    No                      No              No   \n",
              "1                    No                      No              No   \n",
              "\n",
              "  is_power_door_locks is_central_locking is_power_steering  \\\n",
              "0                  No                 No               Yes   \n",
              "1                  No                 No               Yes   \n",
              "\n",
              "  is_driver_seat_height_adjustable is_day_night_rear_view_mirror is_ecw  \\\n",
              "0                               No                            No     No   \n",
              "1                               No                            No     No   \n",
              "\n",
              "  is_speed_alert  ncap_rating  is_claim  \n",
              "0            Yes            0         0  \n",
              "1            Yes            0         0  "
            ]
          },
          "execution_count": 188,
          "metadata": {},
          "output_type": "execute_result"
        }
      ],
      "source": [
        "df_train = pd.read_csv('train_qWM28Yl.csv')\n",
        "df_train.head(2)"
      ]
    },
    {
      "cell_type": "code",
      "execution_count": null,
      "id": "77c966de",
      "metadata": {
        "ExecuteTime": {
          "end_time": "2022-11-13T18:11:12.618657Z",
          "start_time": "2022-11-13T18:11:12.213782Z"
        },
        "id": "77c966de",
        "outputId": "e7463d07-272f-4c15-a1d0-5e25725cfd75"
      },
      "outputs": [
        {
          "data": {
            "text/html": [
              "<div>\n",
              "<style scoped>\n",
              "    .dataframe tbody tr th:only-of-type {\n",
              "        vertical-align: middle;\n",
              "    }\n",
              "\n",
              "    .dataframe tbody tr th {\n",
              "        vertical-align: top;\n",
              "    }\n",
              "\n",
              "    .dataframe thead th {\n",
              "        text-align: right;\n",
              "    }\n",
              "</style>\n",
              "<table border=\"1\" class=\"dataframe\">\n",
              "  <thead>\n",
              "    <tr style=\"text-align: right;\">\n",
              "      <th></th>\n",
              "      <th>policy_id</th>\n",
              "      <th>policy_tenure</th>\n",
              "      <th>age_of_car</th>\n",
              "      <th>age_of_policyholder</th>\n",
              "      <th>area_cluster</th>\n",
              "      <th>population_density</th>\n",
              "      <th>make</th>\n",
              "      <th>segment</th>\n",
              "      <th>model</th>\n",
              "      <th>fuel_type</th>\n",
              "      <th>max_torque</th>\n",
              "      <th>max_power</th>\n",
              "      <th>engine_type</th>\n",
              "      <th>airbags</th>\n",
              "      <th>is_esc</th>\n",
              "      <th>is_adjustable_steering</th>\n",
              "      <th>is_tpms</th>\n",
              "      <th>is_parking_sensors</th>\n",
              "      <th>is_parking_camera</th>\n",
              "      <th>rear_brakes_type</th>\n",
              "      <th>displacement</th>\n",
              "      <th>cylinder</th>\n",
              "      <th>transmission_type</th>\n",
              "      <th>gear_box</th>\n",
              "      <th>steering_type</th>\n",
              "      <th>turning_radius</th>\n",
              "      <th>length</th>\n",
              "      <th>width</th>\n",
              "      <th>height</th>\n",
              "      <th>gross_weight</th>\n",
              "      <th>is_front_fog_lights</th>\n",
              "      <th>is_rear_window_wiper</th>\n",
              "      <th>is_rear_window_washer</th>\n",
              "      <th>is_rear_window_defogger</th>\n",
              "      <th>is_brake_assist</th>\n",
              "      <th>is_power_door_locks</th>\n",
              "      <th>is_central_locking</th>\n",
              "      <th>is_power_steering</th>\n",
              "      <th>is_driver_seat_height_adjustable</th>\n",
              "      <th>is_day_night_rear_view_mirror</th>\n",
              "      <th>is_ecw</th>\n",
              "      <th>is_speed_alert</th>\n",
              "      <th>ncap_rating</th>\n",
              "    </tr>\n",
              "  </thead>\n",
              "  <tbody>\n",
              "    <tr>\n",
              "      <th>0</th>\n",
              "      <td>ID58593</td>\n",
              "      <td>0.341732</td>\n",
              "      <td>0.00</td>\n",
              "      <td>0.586538</td>\n",
              "      <td>C3</td>\n",
              "      <td>4076</td>\n",
              "      <td>1</td>\n",
              "      <td>A</td>\n",
              "      <td>M1</td>\n",
              "      <td>CNG</td>\n",
              "      <td>60Nm@3500rpm</td>\n",
              "      <td>40.36bhp@6000rpm</td>\n",
              "      <td>F8D Petrol Engine</td>\n",
              "      <td>2</td>\n",
              "      <td>No</td>\n",
              "      <td>No</td>\n",
              "      <td>No</td>\n",
              "      <td>Yes</td>\n",
              "      <td>No</td>\n",
              "      <td>Drum</td>\n",
              "      <td>796</td>\n",
              "      <td>3</td>\n",
              "      <td>Manual</td>\n",
              "      <td>5</td>\n",
              "      <td>Power</td>\n",
              "      <td>4.6</td>\n",
              "      <td>3445</td>\n",
              "      <td>1515</td>\n",
              "      <td>1475</td>\n",
              "      <td>1185</td>\n",
              "      <td>No</td>\n",
              "      <td>No</td>\n",
              "      <td>No</td>\n",
              "      <td>No</td>\n",
              "      <td>No</td>\n",
              "      <td>No</td>\n",
              "      <td>No</td>\n",
              "      <td>Yes</td>\n",
              "      <td>No</td>\n",
              "      <td>No</td>\n",
              "      <td>No</td>\n",
              "      <td>Yes</td>\n",
              "      <td>0</td>\n",
              "    </tr>\n",
              "    <tr>\n",
              "      <th>1</th>\n",
              "      <td>ID58594</td>\n",
              "      <td>0.307241</td>\n",
              "      <td>0.13</td>\n",
              "      <td>0.442308</td>\n",
              "      <td>C8</td>\n",
              "      <td>8794</td>\n",
              "      <td>1</td>\n",
              "      <td>B2</td>\n",
              "      <td>M6</td>\n",
              "      <td>Petrol</td>\n",
              "      <td>113Nm@4400rpm</td>\n",
              "      <td>88.50bhp@6000rpm</td>\n",
              "      <td>K Series Dual jet</td>\n",
              "      <td>2</td>\n",
              "      <td>No</td>\n",
              "      <td>Yes</td>\n",
              "      <td>No</td>\n",
              "      <td>Yes</td>\n",
              "      <td>No</td>\n",
              "      <td>Drum</td>\n",
              "      <td>1197</td>\n",
              "      <td>4</td>\n",
              "      <td>Manual</td>\n",
              "      <td>5</td>\n",
              "      <td>Electric</td>\n",
              "      <td>4.8</td>\n",
              "      <td>3845</td>\n",
              "      <td>1735</td>\n",
              "      <td>1530</td>\n",
              "      <td>1335</td>\n",
              "      <td>Yes</td>\n",
              "      <td>No</td>\n",
              "      <td>No</td>\n",
              "      <td>No</td>\n",
              "      <td>Yes</td>\n",
              "      <td>Yes</td>\n",
              "      <td>Yes</td>\n",
              "      <td>Yes</td>\n",
              "      <td>Yes</td>\n",
              "      <td>Yes</td>\n",
              "      <td>Yes</td>\n",
              "      <td>Yes</td>\n",
              "      <td>2</td>\n",
              "    </tr>\n",
              "  </tbody>\n",
              "</table>\n",
              "</div>"
            ],
            "text/plain": [
              "  policy_id  policy_tenure  age_of_car  age_of_policyholder area_cluster  \\\n",
              "0   ID58593       0.341732        0.00             0.586538           C3   \n",
              "1   ID58594       0.307241        0.13             0.442308           C8   \n",
              "\n",
              "   population_density  make segment model fuel_type     max_torque  \\\n",
              "0                4076     1       A    M1       CNG   60Nm@3500rpm   \n",
              "1                8794     1      B2    M6    Petrol  113Nm@4400rpm   \n",
              "\n",
              "          max_power        engine_type  airbags is_esc is_adjustable_steering  \\\n",
              "0  40.36bhp@6000rpm  F8D Petrol Engine        2     No                     No   \n",
              "1  88.50bhp@6000rpm  K Series Dual jet        2     No                    Yes   \n",
              "\n",
              "  is_tpms is_parking_sensors is_parking_camera rear_brakes_type  displacement  \\\n",
              "0      No                Yes                No             Drum           796   \n",
              "1      No                Yes                No             Drum          1197   \n",
              "\n",
              "   cylinder transmission_type  gear_box steering_type  turning_radius  length  \\\n",
              "0         3            Manual         5         Power             4.6    3445   \n",
              "1         4            Manual         5      Electric             4.8    3845   \n",
              "\n",
              "   width  height  gross_weight is_front_fog_lights is_rear_window_wiper  \\\n",
              "0   1515    1475          1185                  No                   No   \n",
              "1   1735    1530          1335                 Yes                   No   \n",
              "\n",
              "  is_rear_window_washer is_rear_window_defogger is_brake_assist  \\\n",
              "0                    No                      No              No   \n",
              "1                    No                      No             Yes   \n",
              "\n",
              "  is_power_door_locks is_central_locking is_power_steering  \\\n",
              "0                  No                 No               Yes   \n",
              "1                 Yes                Yes               Yes   \n",
              "\n",
              "  is_driver_seat_height_adjustable is_day_night_rear_view_mirror is_ecw  \\\n",
              "0                               No                            No     No   \n",
              "1                              Yes                           Yes    Yes   \n",
              "\n",
              "  is_speed_alert  ncap_rating  \n",
              "0            Yes            0  \n",
              "1            Yes            2  "
            ]
          },
          "execution_count": 189,
          "metadata": {},
          "output_type": "execute_result"
        }
      ],
      "source": [
        "df_test = pd.read_csv('test_zo1G9sv.csv')\n",
        "df_test.head(2)"
      ]
    },
    {
      "cell_type": "code",
      "execution_count": null,
      "id": "a4a07974",
      "metadata": {
        "ExecuteTime": {
          "end_time": "2022-11-13T18:11:13.383188Z",
          "start_time": "2022-11-13T18:11:13.303392Z"
        },
        "id": "a4a07974"
      },
      "outputs": [],
      "source": [
        "df_train_take = df_train.copy()\n",
        "df_test_take = df_test.copy()"
      ]
    },
    {
      "cell_type": "code",
      "execution_count": null,
      "id": "41a9fda1",
      "metadata": {
        "ExecuteTime": {
          "end_time": "2022-11-13T18:11:14.768884Z",
          "start_time": "2022-11-13T18:11:14.727720Z"
        },
        "id": "41a9fda1"
      },
      "outputs": [],
      "source": [
        "df_train_take.drop(['policy_id'], axis=1, inplace=True)"
      ]
    },
    {
      "cell_type": "code",
      "execution_count": null,
      "id": "031732e6",
      "metadata": {
        "ExecuteTime": {
          "end_time": "2022-11-13T18:11:15.034598Z",
          "start_time": "2022-11-13T18:11:15.017141Z"
        },
        "id": "031732e6"
      },
      "outputs": [],
      "source": [
        "df_test_take.drop(['policy_id'], axis=1, inplace=True)"
      ]
    },
    {
      "cell_type": "code",
      "execution_count": null,
      "id": "08c42356",
      "metadata": {
        "ExecuteTime": {
          "end_time": "2022-11-13T17:56:41.472675Z",
          "start_time": "2022-11-13T17:56:41.463259Z"
        },
        "id": "08c42356"
      },
      "outputs": [],
      "source": [
        "bool_columns = ['is_esc', 'is_adjustable_steering', 'is_tpms', 'is_parking_sensors', 'is_parking_camera',\n",
        "               'is_front_fog_lights', 'is_rear_window_wiper', 'is_rear_window_washer', 'is_rear_window_defogger',\n",
        "               'is_brake_assist', 'is_power_door_locks','is_central_locking','is_power_steering',\n",
        "                'is_driver_seat_height_adjustable','is_day_night_rear_view_mirror','is_ecw', 'is_speed_alert']"
      ]
    },
    {
      "cell_type": "code",
      "execution_count": null,
      "id": "5ee2e6fc",
      "metadata": {
        "ExecuteTime": {
          "end_time": "2022-11-13T17:56:42.846324Z",
          "start_time": "2022-11-13T17:56:41.803945Z"
        },
        "id": "5ee2e6fc"
      },
      "outputs": [],
      "source": [
        "replace_bool = {'Yes' : 1,  'No': 0}\n",
        "df_train_take[bool_columns] = df_train_take[bool_columns].replace(replace_bool)\n",
        "df_test_take[bool_columns] = df_test_take[bool_columns].replace(replace_bool)"
      ]
    },
    {
      "cell_type": "code",
      "execution_count": null,
      "id": "0dec76bc",
      "metadata": {
        "ExecuteTime": {
          "end_time": "2022-11-13T17:56:42.855692Z",
          "start_time": "2022-11-13T17:56:42.850609Z"
        },
        "id": "0dec76bc"
      },
      "outputs": [],
      "source": [
        "ordinal_col = ['max_torque', 'max_power', 'transmission_type', 'steering_type']\n",
        "dummy_columns = ['area_cluster', 'segment', 'model', 'fuel_type', 'rear_brakes_type', 'engine_type']"
      ]
    },
    {
      "cell_type": "code",
      "execution_count": null,
      "id": "bc6d0b7b",
      "metadata": {
        "ExecuteTime": {
          "end_time": "2022-11-13T17:56:43.777707Z",
          "start_time": "2022-11-13T17:56:43.539540Z"
        },
        "id": "bc6d0b7b"
      },
      "outputs": [],
      "source": [
        "df_train_take = pd.concat([df_train_take,pd.get_dummies(df_train_take[dummy_columns])],axis=1)\n",
        "df_train_take.drop(dummy_columns, axis=1, inplace=True)"
      ]
    },
    {
      "cell_type": "code",
      "execution_count": null,
      "id": "06414984",
      "metadata": {
        "ExecuteTime": {
          "end_time": "2022-11-13T17:56:44.149561Z",
          "start_time": "2022-11-13T17:56:44.046777Z"
        },
        "id": "06414984"
      },
      "outputs": [],
      "source": [
        "df_test_take = pd.concat([df_test_take,pd.get_dummies(df_test_take[dummy_columns])],axis=1)\n",
        "df_test_take.drop(dummy_columns, axis=1, inplace=True)"
      ]
    },
    {
      "cell_type": "code",
      "execution_count": null,
      "id": "82471346",
      "metadata": {
        "ExecuteTime": {
          "end_time": "2022-11-13T17:57:10.107975Z",
          "start_time": "2022-11-13T17:56:44.790456Z"
        },
        "id": "82471346"
      },
      "outputs": [],
      "source": [
        "ordinal_col = ['max_torque', 'max_power', 'transmission_type', 'steering_type']\n",
        "\n",
        "df_train_take['transmission_type'] = df_train_take['transmission_type'].replace({'Manual' : 1, 'Automatic' : 2})\n",
        "df_train_take['steering_type'] = df_train_take['steering_type'].replace({'Manual' : 1, 'Power' : 2, 'Electric': 3})\n",
        "\n",
        "df_train_take[['max_torque_Nm', 'max_torque_rpm']] = df_train_take[\"max_torque\"].apply(lambda x: pd.Series(str(x).split(\"@\")))\n",
        "df_train_take.drop([\"max_torque\"], axis=1, inplace= True)\n",
        "df_train_take['max_torque_rpm'] = df_train_take['max_torque_rpm'].str[:-3].astype(int)\n",
        "df_train_take['max_torque_Nm'] = df_train_take['max_torque_Nm'].str[:-2].astype(float)\n",
        "\n",
        "\n",
        "df_train_take[['max_power_bhp', 'max_power_rpm']] = df_train_take[\"max_power\"].apply(lambda x: pd.Series(str(x).split(\"@\")))\n",
        "df_train_take.drop([\"max_power\"], axis=1, inplace= True)\n",
        "df_train_take['max_power_rpm'] = df_train_take['max_power_rpm'].str[:-3].astype(int)\n",
        "df_train_take['max_power_bhp'] = df_train_take['max_power_bhp'].str[:-3].astype(float)"
      ]
    },
    {
      "cell_type": "code",
      "execution_count": null,
      "id": "97d9351b",
      "metadata": {
        "ExecuteTime": {
          "end_time": "2022-11-13T17:57:23.414819Z",
          "start_time": "2022-11-13T17:57:10.111819Z"
        },
        "id": "97d9351b"
      },
      "outputs": [],
      "source": [
        "df_test_take['transmission_type'] = df_test_take['transmission_type'].replace({'Manual' : 1, 'Automatic' : 2})\n",
        "df_test_take['steering_type'] = df_test_take['steering_type'].replace({'Manual' : 1, 'Power' : 2, 'Electric': 3})\n",
        "\n",
        "df_test_take[['max_torque_Nm', 'max_torque_rpm']] = df_test_take[\"max_torque\"].apply(lambda x: pd.Series(str(x).split(\"@\")))\n",
        "df_test_take.drop([\"max_torque\"], axis=1, inplace= True)\n",
        "df_test_take['max_torque_rpm'] = df_test_take['max_torque_rpm'].str[:-3].astype(int)\n",
        "df_test_take['max_torque_Nm'] = df_test_take['max_torque_Nm'].str[:-2].astype(float)\n",
        "\n",
        "\n",
        "df_test_take[['max_power_bhp', 'max_power_rpm']] = df_test_take[\"max_power\"].apply(lambda x: pd.Series(str(x).split(\"@\")))\n",
        "df_test_take.drop([\"max_power\"], axis=1, inplace= True)\n",
        "df_test_take['max_power_rpm'] = df_test_take['max_power_rpm'].str[:-3].astype(int)\n",
        "df_test_take['max_power_bhp'] = df_test_take['max_power_bhp'].str[:-3].astype(float)"
      ]
    },
    {
      "cell_type": "code",
      "execution_count": null,
      "id": "f126b4ea",
      "metadata": {
        "ExecuteTime": {
          "end_time": "2022-11-13T17:17:12.537517Z",
          "start_time": "2022-11-13T17:17:12.493818Z"
        },
        "id": "f126b4ea"
      },
      "outputs": [],
      "source": []
    },
    {
      "cell_type": "code",
      "execution_count": null,
      "id": "955660b9",
      "metadata": {
        "ExecuteTime": {
          "end_time": "2022-11-13T17:58:19.295005Z",
          "start_time": "2022-11-13T17:58:19.289698Z"
        },
        "id": "955660b9"
      },
      "outputs": [],
      "source": [
        "# from catboost import CatBoostClassifier"
      ]
    },
    {
      "cell_type": "code",
      "execution_count": null,
      "id": "269a2519",
      "metadata": {
        "ExecuteTime": {
          "end_time": "2022-11-13T17:58:19.652497Z",
          "start_time": "2022-11-13T17:58:19.647663Z"
        },
        "id": "269a2519"
      },
      "outputs": [],
      "source": [
        "# X_train = df_train_take.drop(['is_claim'], axis=1)\n",
        "# y_train = df_train_take['is_claim']\n",
        "# X_test = df_test_take.copy()"
      ]
    },
    {
      "cell_type": "code",
      "execution_count": null,
      "id": "22b173da",
      "metadata": {
        "ExecuteTime": {
          "end_time": "2022-11-13T17:58:20.253820Z",
          "start_time": "2022-11-13T17:58:20.249480Z"
        },
        "id": "22b173da"
      },
      "outputs": [],
      "source": [
        "# X_train = df_train.drop(['is_claim'], axis=1)\n",
        "# y_train = df_train['is_claim']\n",
        "# X_test = df_test.copy()"
      ]
    },
    {
      "cell_type": "code",
      "execution_count": null,
      "id": "12f1977e",
      "metadata": {
        "ExecuteTime": {
          "end_time": "2022-11-13T17:58:26.013515Z",
          "start_time": "2022-11-13T17:58:26.008473Z"
        },
        "id": "12f1977e"
      },
      "outputs": [],
      "source": [
        "import numpy as np"
      ]
    },
    {
      "cell_type": "code",
      "execution_count": null,
      "id": "0f8f5421",
      "metadata": {
        "ExecuteTime": {
          "end_time": "2022-11-13T18:11:22.925394Z",
          "start_time": "2022-11-13T18:11:22.875906Z"
        },
        "id": "0f8f5421"
      },
      "outputs": [],
      "source": [
        "X = df_train_take.drop(['is_claim'], axis=1)\n",
        "y = df_train_take['is_claim']\n",
        "X_test = df_test_take.copy()"
      ]
    },
    {
      "cell_type": "code",
      "execution_count": null,
      "id": "030bd6fe",
      "metadata": {
        "ExecuteTime": {
          "end_time": "2022-11-13T18:11:23.348590Z",
          "start_time": "2022-11-13T18:11:23.338403Z"
        },
        "id": "030bd6fe"
      },
      "outputs": [],
      "source": [
        "categorical_features_indices = np.where((X_train_take1.dtypes == object).values.astype(int) == 1)[0]"
      ]
    },
    {
      "cell_type": "code",
      "execution_count": null,
      "id": "6ae28a1a",
      "metadata": {
        "ExecuteTime": {
          "end_time": "2022-11-13T18:11:23.865443Z",
          "start_time": "2022-11-13T18:11:23.859231Z"
        },
        "id": "6ae28a1a"
      },
      "outputs": [],
      "source": [
        "from sklearn.model_selection import train_test_split"
      ]
    },
    {
      "cell_type": "code",
      "execution_count": null,
      "id": "4b466bee",
      "metadata": {
        "ExecuteTime": {
          "end_time": "2022-11-13T18:11:30.765079Z",
          "start_time": "2022-11-13T18:11:30.650693Z"
        },
        "id": "4b466bee"
      },
      "outputs": [],
      "source": [
        "X_train, X_val, y_train, y_val = train_test_split(X, y, test_size=0.3, random_state=42)"
      ]
    },
    {
      "cell_type": "code",
      "execution_count": null,
      "id": "ebbe2650",
      "metadata": {
        "ExecuteTime": {
          "end_time": "2022-11-13T18:13:07.514665Z",
          "start_time": "2022-11-13T18:11:35.537155Z"
        },
        "id": "ebbe2650",
        "outputId": "d0f87d3c-697b-4070-97e9-5010b7264b1b"
      },
      "outputs": [
        {
          "data": {
            "text/plain": [
              "<catboost.core.CatBoostClassifier at 0x7fcc9a63e670>"
            ]
          },
          "execution_count": 197,
          "metadata": {},
          "output_type": "execute_result"
        }
      ],
      "source": [
        "catboost_base = CatBoostClassifier(verbose=False,random_state=0, scale_pos_weight=10)\n",
        "catboost_base.fit(X_train, y_train,cat_features=categorical_features_indices,eval_set=(X_val, y_val))"
      ]
    },
    {
      "cell_type": "code",
      "execution_count": null,
      "id": "d0e9ddc7",
      "metadata": {
        "ExecuteTime": {
          "end_time": "2022-11-13T18:13:08.308518Z",
          "start_time": "2022-11-13T18:13:07.520073Z"
        },
        "id": "d0e9ddc7"
      },
      "outputs": [],
      "source": [
        "y_pred = catboost_base.predict(X_test)"
      ]
    },
    {
      "cell_type": "code",
      "execution_count": null,
      "id": "77f46156",
      "metadata": {
        "ExecuteTime": {
          "end_time": "2022-11-13T18:13:08.316492Z",
          "start_time": "2022-11-13T18:13:08.311338Z"
        },
        "id": "77f46156"
      },
      "outputs": [],
      "source": [
        "# model.fit(X_train, y_train, logging_level='Silent')\n",
        "# preds_class = model.predict(X_test)"
      ]
    },
    {
      "cell_type": "code",
      "execution_count": null,
      "id": "6c91e85d",
      "metadata": {
        "ExecuteTime": {
          "end_time": "2022-11-13T18:13:08.373992Z",
          "start_time": "2022-11-13T18:13:08.321956Z"
        },
        "id": "6c91e85d",
        "outputId": "6bc600b2-e4a8-4264-be0c-c418350d5d3c"
      },
      "outputs": [
        {
          "data": {
            "text/html": [
              "<div>\n",
              "<style scoped>\n",
              "    .dataframe tbody tr th:only-of-type {\n",
              "        vertical-align: middle;\n",
              "    }\n",
              "\n",
              "    .dataframe tbody tr th {\n",
              "        vertical-align: top;\n",
              "    }\n",
              "\n",
              "    .dataframe thead th {\n",
              "        text-align: right;\n",
              "    }\n",
              "</style>\n",
              "<table border=\"1\" class=\"dataframe\">\n",
              "  <thead>\n",
              "    <tr style=\"text-align: right;\">\n",
              "      <th></th>\n",
              "      <th>policy_id</th>\n",
              "      <th>is_claim</th>\n",
              "    </tr>\n",
              "  </thead>\n",
              "  <tbody>\n",
              "    <tr>\n",
              "      <th>0</th>\n",
              "      <td>ID58593</td>\n",
              "      <td>1</td>\n",
              "    </tr>\n",
              "    <tr>\n",
              "      <th>1</th>\n",
              "      <td>ID58594</td>\n",
              "      <td>1</td>\n",
              "    </tr>\n",
              "  </tbody>\n",
              "</table>\n",
              "</div>"
            ],
            "text/plain": [
              "  policy_id  is_claim\n",
              "0   ID58593         1\n",
              "1   ID58594         1"
            ]
          },
          "execution_count": 200,
          "metadata": {},
          "output_type": "execute_result"
        }
      ],
      "source": [
        "submission_df = pd.read_csv('sample_submission_KvRh9Sx.csv')\n",
        "submission_df.head(2)"
      ]
    },
    {
      "cell_type": "code",
      "execution_count": null,
      "id": "e749936b",
      "metadata": {
        "ExecuteTime": {
          "end_time": "2022-11-13T18:13:08.389113Z",
          "start_time": "2022-11-13T18:13:08.376964Z"
        },
        "id": "e749936b"
      },
      "outputs": [],
      "source": [
        "submission_df['policy_id'] = df_test['policy_id']"
      ]
    },
    {
      "cell_type": "code",
      "execution_count": null,
      "id": "e8cc4924",
      "metadata": {
        "ExecuteTime": {
          "end_time": "2022-11-13T18:13:08.398506Z",
          "start_time": "2022-11-13T18:13:08.393164Z"
        },
        "id": "e8cc4924"
      },
      "outputs": [],
      "source": [
        "submission_df['is_claim'] = y_pred"
      ]
    },
    {
      "cell_type": "code",
      "execution_count": null,
      "id": "52634ce5",
      "metadata": {
        "ExecuteTime": {
          "end_time": "2022-11-13T18:13:08.410551Z",
          "start_time": "2022-11-13T18:13:08.402157Z"
        },
        "id": "52634ce5",
        "outputId": "46683023-aa07-4095-aba8-3c002676f88c"
      },
      "outputs": [
        {
          "data": {
            "text/plain": [
              "0    31793\n",
              "1     7270\n",
              "Name: is_claim, dtype: int64"
            ]
          },
          "execution_count": 203,
          "metadata": {},
          "output_type": "execute_result"
        }
      ],
      "source": [
        "submission_df['is_claim'].value_counts()"
      ]
    },
    {
      "cell_type": "code",
      "execution_count": null,
      "id": "a7c7b7bf",
      "metadata": {
        "ExecuteTime": {
          "end_time": "2022-11-13T18:13:49.505379Z",
          "start_time": "2022-11-13T18:13:49.414764Z"
        },
        "id": "a7c7b7bf"
      },
      "outputs": [],
      "source": [
        "submission_df.to_csv('submission_1orig.csv', index=False)"
      ]
    },
    {
      "cell_type": "code",
      "execution_count": null,
      "id": "431f929c",
      "metadata": {
        "id": "431f929c"
      },
      "outputs": [],
      "source": []
    },
    {
      "cell_type": "code",
      "execution_count": null,
      "id": "d1068854",
      "metadata": {
        "id": "d1068854"
      },
      "outputs": [],
      "source": []
    },
    {
      "cell_type": "code",
      "execution_count": null,
      "id": "68fb17c0",
      "metadata": {
        "id": "68fb17c0"
      },
      "outputs": [],
      "source": []
    }
  ],
  "metadata": {
    "kernelspec": {
      "display_name": "Python 3 (ipykernel)",
      "language": "python",
      "name": "python3"
    },
    "language_info": {
      "codemirror_mode": {
        "name": "ipython",
        "version": 3
      },
      "file_extension": ".py",
      "mimetype": "text/x-python",
      "name": "python",
      "nbconvert_exporter": "python",
      "pygments_lexer": "ipython3",
      "version": "3.9.13"
    },
    "colab": {
      "provenance": []
    }
  },
  "nbformat": 4,
  "nbformat_minor": 5
}